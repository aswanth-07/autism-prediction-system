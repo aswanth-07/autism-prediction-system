{
 "cells": [
  {
   "cell_type": "code",
   "execution_count": null,
   "metadata": {},
   "outputs": [],
   "source": [
    "import numpy as np\n",
    "import pandas as pd\n",
    "import matplotlib.pyplot as plt\n",
    "from sklearn.svm import SVC\n",
    "from sklearn.model_selection import train_test_split\n",
    "from sklearn.metrics import classification_report, f1_score\n",
    "from imblearn.over_sampling import SMOTE\n",
    "import xgboost\n",
    "from imblearn.over_sampling import ADASYN"
   ]
  },
  {
   "cell_type": "code",
   "execution_count": 1,
   "metadata": {},
   "outputs": [
    {
     "ename": "NameError",
     "evalue": "name 'pd' is not defined",
     "output_type": "error",
     "traceback": [
      "\u001b[1;31m---------------------------------------------------------------------------\u001b[0m",
      "\u001b[1;31mNameError\u001b[0m                                 Traceback (most recent call last)",
      "Cell \u001b[1;32mIn[1], line 1\u001b[0m\n\u001b[1;32m----> 1\u001b[0m frequency_encoded \u001b[38;5;241m=\u001b[39m \u001b[43mpd\u001b[49m\u001b[38;5;241m.\u001b[39mread_csv(\u001b[38;5;124m'\u001b[39m\u001b[38;5;124mData/Processed Data/one_hot_encoded_data.csv\u001b[39m\u001b[38;5;124m'\u001b[39m)\n",
      "\u001b[1;31mNameError\u001b[0m: name 'pd' is not defined"
     ]
    }
   ],
   "source": [
    "frequency_encoded = pd.read_csv('Data/Processed Data/one_hot_encoded_data.csv')\n",
    "\n"
   ]
  },
  {
   "cell_type": "code",
   "execution_count": null,
   "metadata": {},
   "outputs": [],
   "source": [
    "X = frequency_encoded.drop(columns=['Class/ASD'])\n",
    "y = frequency_encoded['Class/ASD']\n",
    "X_train_orig, X_test_orig, y_train_orig, y_test_orig = train_test_split(X, y, test_size=0.25, stratify=y, random_state=42)\n",
    "\n",
    "smote = ADASYN(random_state=42,n_neighbors=4)\n",
    "X_train_smote, y_train_smote = smote.fit_resample(X_train_orig, y_train_orig)"
   ]
  },
  {
   "cell_type": "code",
   "execution_count": null,
   "metadata": {},
   "outputs": [],
   "source": []
  },
  {
   "cell_type": "code",
   "execution_count": null,
   "metadata": {},
   "outputs": [
    {
     "name": "stdout",
     "output_type": "stream",
     "text": [
      "              precision    recall  f1-score   support\n",
      "\n",
      "           0       0.93      0.90      0.91       160\n",
      "           1       0.64      0.72      0.68        40\n",
      "\n",
      "    accuracy                           0.86       200\n",
      "   macro avg       0.79      0.81      0.80       200\n",
      "weighted avg       0.87      0.86      0.87       200\n",
      "\n"
     ]
    }
   ],
   "source": [
    "model = SVC(kernel='linear', random_state=42)\n",
    "# F1 score is used as the metric for model evaluation\n",
    "model.fit(X_train_orig, y_train_orig)\n",
    "y_pred = model.predict(X_test_orig)\n",
    "print(classification_report(y_test_orig, y_pred))"
   ]
  },
  {
   "cell_type": "code",
   "execution_count": null,
   "metadata": {},
   "outputs": [
    {
     "name": "stdout",
     "output_type": "stream",
     "text": [
      "              precision    recall  f1-score   support\n",
      "\n",
      "           0       0.93      0.86      0.89       160\n",
      "           1       0.56      0.72      0.63        40\n",
      "\n",
      "    accuracy                           0.83       200\n",
      "   macro avg       0.74      0.79      0.76       200\n",
      "weighted avg       0.85      0.83      0.84       200\n",
      "\n"
     ]
    }
   ],
   "source": [
    "model = SVC(kernel='linear', random_state=42)\n",
    "# F1 score is used as the metric for model evaluation\n",
    "model.fit(X_train_smote, y_train_smote)\n",
    "y_pred = model.predict(X_test_orig)\n",
    "print(classification_report(y_test_orig, y_pred))"
   ]
  },
  {
   "cell_type": "code",
   "execution_count": null,
   "metadata": {},
   "outputs": [],
   "source": []
  },
  {
   "cell_type": "code",
   "execution_count": null,
   "metadata": {},
   "outputs": [
    {
     "name": "stdout",
     "output_type": "stream",
     "text": [
      "              precision    recall  f1-score   support\n",
      "\n",
      "           0       0.94      0.89      0.91       160\n",
      "           1       0.63      0.78      0.70        40\n",
      "\n",
      "    accuracy                           0.86       200\n",
      "   macro avg       0.79      0.83      0.80       200\n",
      "weighted avg       0.88      0.86      0.87       200\n",
      "\n"
     ]
    }
   ],
   "source": [
    "model = xgboost.XGBClassifier(\n",
    "    random_state=42, \n",
    "    eval_metric='logloss',\n",
    "    n_estimators=50,\n",
    "    scale_pos_weight=12\n",
    ")\n",
    "\n",
    "model.fit(X_train_orig, y_train_orig)\n",
    "y_pred = model.predict(X_test_orig)\n",
    "print(classification_report(y_test_orig, y_pred))"
   ]
  },
  {
   "cell_type": "code",
   "execution_count": null,
   "metadata": {},
   "outputs": [
    {
     "name": "stdout",
     "output_type": "stream",
     "text": [
      "              precision    recall  f1-score   support\n",
      "\n",
      "           0       0.95      0.88      0.92       160\n",
      "           1       0.63      0.82      0.72        40\n",
      "\n",
      "    accuracy                           0.87       200\n",
      "   macro avg       0.79      0.85      0.82       200\n",
      "weighted avg       0.89      0.87      0.88       200\n",
      "\n"
     ]
    }
   ],
   "source": [
    "model = xgboost.XGBClassifier(\n",
    "    random_state=42, \n",
    "    eval_metric='logloss',\n",
    "    n_estimators=50,\n",
    "    scale_pos_weight=12\n",
    ")\n",
    "\n",
    "model.fit(X_train_smote, y_train_smote)\n",
    "y_pred = model.predict(X_test_orig)\n",
    "print(classification_report(y_test_orig, y_pred))"
   ]
  },
  {
   "cell_type": "code",
   "execution_count": null,
   "metadata": {},
   "outputs": [],
   "source": []
  }
 ],
 "metadata": {
  "kernelspec": {
   "display_name": "Python 3",
   "language": "python",
   "name": "python3"
  },
  "language_info": {
   "codemirror_mode": {
    "name": "ipython",
    "version": 3
   },
   "file_extension": ".py",
   "mimetype": "text/x-python",
   "name": "python",
   "nbconvert_exporter": "python",
   "pygments_lexer": "ipython3",
   "version": "3.10.11"
  }
 },
 "nbformat": 4,
 "nbformat_minor": 2
}
